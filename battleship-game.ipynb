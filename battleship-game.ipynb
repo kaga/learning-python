{
 "metadata": {
  "language_info": {
   "codemirror_mode": {
    "name": "ipython",
    "version": 3
   },
   "file_extension": ".py",
   "mimetype": "text/x-python",
   "name": "python",
   "nbconvert_exporter": "python",
   "pygments_lexer": "ipython3",
   "version": "3.8.6-final"
  },
  "orig_nbformat": 2,
  "kernelspec": {
   "name": "python38264bitvenvvenv380fa03b90e9488d8b40868170a4fdf2",
   "display_name": "Python 3.8.2 64-bit ('venv': venv)"
  }
 },
 "nbformat": 4,
 "nbformat_minor": 2,
 "cells": [
  {
   "source": [
    "# Simple Battleship Game\n"
   ],
   "cell_type": "markdown",
   "metadata": {}
  },
  {
   "cell_type": "code",
   "execution_count": 1,
   "metadata": {},
   "outputs": [],
   "source": [
    "from IPython.core.interactiveshell import InteractiveShell\n",
    "InteractiveShell.ast_node_interactivity = \"all\""
   ]
  },
  {
   "cell_type": "code",
   "execution_count": 2,
   "metadata": {},
   "outputs": [],
   "source": [
    "from collections import namedtuple\n",
    "from dataclasses import dataclass\n",
    "\n",
    "Location = namedtuple(\"Location\", \"x y\")\n",
    "\n",
    "@dataclass(eq=True, order=True)\n",
    "class Battleship:\n",
    "    location: Location\n",
    "    isDestoryed: bool\n"
   ]
  },
  {
   "cell_type": "code",
   "execution_count": 3,
   "metadata": {},
   "outputs": [
    {
     "output_type": "execute_result",
     "data": {
      "text/plain": [
       "Location(x=1, y=1)"
      ]
     },
     "metadata": {},
     "execution_count": 3
    },
    {
     "output_type": "execute_result",
     "data": {
      "text/plain": [
       "Location(x=1, y=1)"
      ]
     },
     "metadata": {},
     "execution_count": 3
    },
    {
     "output_type": "execute_result",
     "data": {
      "text/plain": [
       "True"
      ]
     },
     "metadata": {},
     "execution_count": 3
    },
    {
     "output_type": "execute_result",
     "data": {
      "text/plain": [
       "False"
      ]
     },
     "metadata": {},
     "execution_count": 3
    }
   ],
   "source": [
    "a = Location(x = 1, y = 1)\n",
    "b = Location(x = 1, y = 1)\n",
    "c = Location(x = 2, y = 1)\n",
    "\n",
    "a\n",
    "b\n",
    "a == b\n",
    "a == c"
   ]
  },
  {
   "cell_type": "code",
   "execution_count": 4,
   "metadata": {},
   "outputs": [
    {
     "output_type": "stream",
     "name": "stdout",
     "text": [
      "[Battleship(location=Location(x=2, y=1), isDestoryed=False), Battleship(location=Location(x=6, y=6), isDestoryed=False)]\n",
      "---\n",
      "Remaining Ships: 2\n",
      "Remaining Tries: 5\n",
      "Location(x=6, y=6)\n",
      "Found and destroyed: Battleship(location=Location(x=6, y=6), isDestoryed=True)\n",
      "---\n",
      "---\n",
      "Remaining Ships: 1\n",
      "Remaining Tries: 4\n",
      "Location(x=2, y=1)\n",
      "Found and destroyed: Battleship(location=Location(x=2, y=1), isDestoryed=True)\n",
      "You won the game\n",
      "---\n"
     ]
    }
   ],
   "source": [
    "from random import seed\n",
    "from random import randrange\n",
    "\n",
    "\n",
    "class BattleshipGame: \n",
    "\n",
    "    def __init__(self):\n",
    "        self.mapSizeRow = 8\n",
    "        self.mapSizeColumn = 8\n",
    "        self.battleships = []\n",
    "        \n",
    "    def start(self):\n",
    "        self.battleships = []\n",
    "\n",
    "        for i in range(2):\n",
    "            self.battleships.append(\n",
    "                Battleship(location=\n",
    "                    Location(x=randrange(self.mapSizeRow), y=randrange(self.mapSizeColumn)), \n",
    "                    isDestoryed=False\n",
    "                )\n",
    "            )\n",
    "\n",
    "        self.remainingTries = 5\n",
    "\n",
    "        print(self.battleships)\n",
    "        \n",
    "        while(self.shouldContinueGame()):\n",
    "            print(\"---\")\n",
    "            remainingShips = list(self.findRemainingBattleships(isDestoryed = False))\n",
    "            print(\"Remaining Ships: %i\" % len(remainingShips))\n",
    "            print(\"Remaining Tries: %i\" % self.remainingTries)\n",
    "            try: \n",
    "                inputString = input() \n",
    "                guessLocation = self.parseInput(inputString)\n",
    "            except ValueError:\n",
    "                print(\"Oops! Invalid Input. Try Again...\")\n",
    "            else:\n",
    "                print(guessLocation)\n",
    "                self.remainingTries -= 1\n",
    "                foundBattleships = self.findBattleships(location = guessLocation, isDestoryed = False)\n",
    "\n",
    "                for battleship in foundBattleships:\n",
    "                    battleship.isDestoryed = True                    \n",
    "                    print('Found and destroyed: %s' % battleship)\n",
    "                    break\n",
    "                else:\n",
    "                    remainingShips = list(self.findRemainingBattleships(isDestoryed = False))\n",
    "                    distanceBetweenShips = map(lambda battleship: self.distanceBetweenPoints(battleship.location, guessLocation), remainingShips)\n",
    "                    print(\"Missed but closest ship is %s\" % self.humanizeDistance(min(distanceBetweenShips)))\n",
    "                \n",
    "                remainingShips = list(self.findRemainingBattleships(isDestoryed = False))\n",
    "                if not remainingShips:\n",
    "                    # print(\"---\")                    \n",
    "                    print(\"You won the game\")\n",
    "                print(\"---\")\n",
    "\n",
    "    def shouldContinueGame(self):\n",
    "        return self.remainingTries > 0 and list(self.findRemainingBattleships(isDestoryed = False))\n",
    "                     \n",
    "    def parseInput(self, input):\n",
    "        points = input.split(\" \")\n",
    "        if (len(points) == 2):\n",
    "            return Location(int(points.pop(0)), int(points.pop(0)))\n",
    "        else: \n",
    "            raise ValueError(\"Input Error\")\n",
    "\n",
    "    def findBattleships(self, location, isDestoryed = False):  \n",
    "        return filter(lambda battleship: battleship.isDestoryed == isDestoryed and battleship.location == location, self.battleships)\n",
    "    \n",
    "    def findRemainingBattleships(self, isDestoryed):\n",
    "        return filter(lambda battleship: battleship.isDestoryed == isDestoryed, self.battleships)\n",
    "\n",
    "    def distanceBetweenPoints(self, pointA, pointB):\n",
    "        return abs(pointA.x - pointB.x) + abs(pointA.y - pointB.y) \n",
    "\n",
    "    def humanizeDistance(self, distance):\n",
    "        if (distance <= 2):\n",
    "            return \"HOT\"\n",
    "        elif(distance <= 5):\n",
    "            return \"WARM\"\n",
    "        else:\n",
    "            return \"COLD\"\n",
    "    \n",
    "\n",
    "\n",
    "game = BattleshipGame()\n",
    "game.start()\n",
    "\n",
    "# game.distanceBetweenPoints(Location(x=1, y=2), Location(x=1, y=2))\n",
    "# game.distanceBetweenPoints(Location(x=1, y=2), Location(x=1, y=3))\n",
    "# game.distanceBetweenPoints(Location(x=1, y=3), Location(x=1, y=2))\n",
    "# game.distanceBetweenPoints(Location(x=0, y=2), Location(x=1, y=2))"
   ]
  },
  {
   "cell_type": "code",
   "execution_count": null,
   "metadata": {},
   "outputs": [],
   "source": []
  }
 ]
}