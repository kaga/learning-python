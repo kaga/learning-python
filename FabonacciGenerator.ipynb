{
 "metadata": {
  "language_info": {
   "codemirror_mode": {
    "name": "ipython",
    "version": 3
   },
   "file_extension": ".py",
   "mimetype": "text/x-python",
   "name": "python",
   "nbconvert_exporter": "python",
   "pygments_lexer": "ipython3",
   "version": "3.8.0-final"
  },
  "orig_nbformat": 2,
  "kernelspec": {
   "name": "python38064bit342d54dbd376477a85373d9286c73adb",
   "display_name": "Python 3.8.0 64-bit"
  }
 },
 "nbformat": 4,
 "nbformat_minor": 2,
 "cells": [
  {
   "source": [
    "# Task - Fibonacci Sequence Number Generator \n",
    "\n",
    "This program genarate Fibonacci numbers \n",
    "https://en.wikipedia.org/wiki/Fibonacci_number \n",
    "\n",
    "First number is F0 = 0\n",
    "\n",
    "The program provides following features:\n",
    "\n",
    "1. Ability to press a button to calculate the next number \n",
    "1. Ability to press a button to calculate the previous number, up to F0  \n"
   ],
   "cell_type": "markdown",
   "metadata": {}
  },
  {
   "cell_type": "code",
   "execution_count": 4,
   "metadata": {},
   "outputs": [],
   "source": [
    "\n",
    "class FibonacciNumberGenerator:\n",
    "    def __init__(self): \n",
    "        self.previousNumbers = []\n",
    "        self.currentNumber = 0\n",
    "\n",
    "    def next(self):\n",
    "        previousNumber = self.previousNumbers[-1] if self.previousNumbers else 1\n",
    "        nextNumber = previousNumber + self.currentNumber\n",
    "        self.previousNumbers.append(self.currentNumber)\n",
    "        self.currentNumber = nextNumber\n",
    "        return self.currentNumber\n",
    "    def previous(self):\n",
    "        self.currentNumber = self.previousNumbers.pop() if self.previousNumbers else 0\n",
    "        return self.currentNumber"
   ]
  },
  {
   "cell_type": "code",
   "execution_count": 5,
   "metadata": {},
   "outputs": [],
   "source": [
    "generator = FibonacciNumberGenerator()"
   ]
  },
  {
   "cell_type": "code",
   "execution_count": 23,
   "metadata": {},
   "outputs": [
    {
     "output_type": "execute_result",
     "data": {
      "text/plain": [
       "2584"
      ]
     },
     "metadata": {},
     "execution_count": 23
    }
   ],
   "source": [
    "generator.next()"
   ]
  },
  {
   "cell_type": "code",
   "execution_count": 45,
   "metadata": {},
   "outputs": [
    {
     "output_type": "execute_result",
     "data": {
      "text/plain": [
       "0"
      ]
     },
     "metadata": {},
     "execution_count": 45
    }
   ],
   "source": [
    "generator.previous()"
   ]
  }
 ]
}